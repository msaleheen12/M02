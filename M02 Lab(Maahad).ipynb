{
 "cells": [
  {
   "cell_type": "code",
   "execution_count": 1,
   "id": "c80f022b-f52d-43b2-aca4-b953122e5920",
   "metadata": {},
   "outputs": [
    {
     "name": "stdin",
     "output_type": "stream",
     "text": [
      "Enter Your Name:  nm\n",
      "Enter Your GPA:  4\n"
     ]
    },
    {
     "name": "stdout",
     "output_type": "stream",
     "text": [
      "nm has made the Dean's list.\n"
     ]
    },
    {
     "name": "stdin",
     "output_type": "stream",
     "text": [
      "Enter Your Name:  maahad\n",
      "Enter Your GPA:  3.2\n",
      "Enter Your Name:  mandy\n",
      "Enter Your GPA:  3.7\n"
     ]
    },
    {
     "name": "stdout",
     "output_type": "stream",
     "text": [
      "mandy has made the Dean's list.\n"
     ]
    },
    {
     "name": "stdin",
     "output_type": "stream",
     "text": [
      "Enter Your Name:  hossain\n",
      "Enter Your GPA:  3.25\n"
     ]
    },
    {
     "name": "stdout",
     "output_type": "stream",
     "text": [
      "hossain has made the Honor's Roll.\n"
     ]
    },
    {
     "name": "stdin",
     "output_type": "stream",
     "text": [
      "Enter Your Name:  iyman\n",
      "Enter Your GPA:  3.4\n"
     ]
    },
    {
     "name": "stdout",
     "output_type": "stream",
     "text": [
      "iyman has made the Honor's Roll.\n"
     ]
    },
    {
     "name": "stdin",
     "output_type": "stream",
     "text": [
      "Enter Your Name:  ZZZ\n"
     ]
    }
   ],
   "source": [
    "#Maahad Sajia Saleheen\n",
    "#Student Qualifier App\n",
    "#This app will take input of the student's name and gpa and will in return tell them if the student qualifies for the Dean's list or the Honor's Roll.\n",
    "while True:\n",
    "#while loop is used to ensure the programm runs until the student enters a name ending with 'ZZZ'\n",
    "    s_name = input(\"Enter Your Name: \")\n",
    "#check if the name ends with 'ZZZ'\n",
    "    if s_name == \"ZZZ\":\n",
    "        break\n",
    "#take the student's gpa\n",
    "    s_gpa = float(input(\"Enter Your GPA: \"))\n",
    "#if and elif statements used to check what the student qualifies for\n",
    "    if s_gpa >= 3.5:\n",
    "        print(s_name + \" has made the Dean's list.\")\n",
    "    elif s_gpa >= 3.25:\n",
    "        print(s_name + \" has made the Honor's Roll.\")"
   ]
  },
  {
   "cell_type": "code",
   "execution_count": null,
   "id": "49b135b5-33d7-486f-a652-05fcda63551d",
   "metadata": {},
   "outputs": [],
   "source": []
  }
 ],
 "metadata": {
  "kernelspec": {
   "display_name": "Python 3 (ipykernel)",
   "language": "python",
   "name": "python3"
  },
  "language_info": {
   "codemirror_mode": {
    "name": "ipython",
    "version": 3
   },
   "file_extension": ".py",
   "mimetype": "text/x-python",
   "name": "python",
   "nbconvert_exporter": "python",
   "pygments_lexer": "ipython3",
   "version": "3.11.7"
  }
 },
 "nbformat": 4,
 "nbformat_minor": 5
}
